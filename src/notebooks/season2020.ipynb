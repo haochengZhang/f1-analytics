{
 "metadata": {
  "language_info": {
   "codemirror_mode": {
    "name": "ipython",
    "version": 3
   },
   "file_extension": ".py",
   "mimetype": "text/x-python",
   "name": "python",
   "nbconvert_exporter": "python",
   "pygments_lexer": "ipython3",
   "version": "3.8.5-final"
  },
  "orig_nbformat": 2,
  "kernelspec": {
   "name": "python3",
   "display_name": "Python 3",
   "language": "python"
  }
 },
 "nbformat": 4,
 "nbformat_minor": 2,
 "cells": [
  {
   "cell_type": "code",
   "execution_count": 1,
   "metadata": {},
   "outputs": [
    {
     "output_type": "stream",
     "name": "stdout",
     "text": [
      "c:\\Users\\hzhang\\Documents\\Work\\F1\n"
     ]
    }
   ],
   "source": [
    "cd .."
   ]
  },
  {
   "cell_type": "code",
   "execution_count": 2,
   "metadata": {},
   "outputs": [],
   "source": [
    "from lib import F1\n",
    "\n",
    "import pandas as pd"
   ]
  },
  {
   "cell_type": "code",
   "execution_count": 3,
   "metadata": {},
   "outputs": [],
   "source": [
    "season = F1.Season(2020)"
   ]
  },
  {
   "cell_type": "code",
   "execution_count": 19,
   "metadata": {},
   "outputs": [],
   "source": [
    "for race in season.racename:\r\n",
    "    season.create_race(race)\r\n",
    "    season.races[race].get_points_data()\r\n",
    "\r\n",
    "season.points = pd.concat([pd.DataFrame(season.races[i].points, index=[i]) for i in season.racename])"
   ]
  },
  {
   "cell_type": "code",
   "execution_count": 20,
   "metadata": {},
   "outputs": [
    {
     "output_type": "execute_result",
     "data": {
      "text/plain": [
       "    bottas  leclerc  norris  hamilton  sainz  perez  gasly  ocon  giovinazzi  \\\n",
       "1       25       18      16      12.0     10    8.0      6     4           2   \n",
       "2       18        0      10      25.0      3    8.0      0     0           0   \n",
       "3       15        0       0      26.0      2    6.0      0     0           0   \n",
       "4        0       15      10      25.0      0    NaN      6     8           0   \n",
       "5       15       12       2      19.0      0    NaN      0     4           0   \n",
       "6       16        0       1      25.0      8   10.0      2     0           0   \n",
       "7       18        0       6      25.0      0    1.0      4    10           0   \n",
       "8       10        0      12       7.0     18    1.0     25     4           0   \n",
       "9       18        4       8      26.0      0   10.0      0     0           0   \n",
       "10      26        8       0      15.0      0   12.0      2     6           0   \n",
       "11       0        6       0      25.0     10   12.0      8     0           1   \n",
       "12      18       12       0      26.0      8    6.0     10     4           0   \n",
       "13      18       10       4      26.0      6    8.0      0     0           1   \n",
       "14       0       12       5      25.0     10   18.0      0     0           0   \n",
       "15       4        1      12      25.0     10    0.0      8     2           0   \n",
       "16       4        0       1       NaN     12   25.0      0    18           0   \n",
       "17      18        0      10      15.0      8    0.0      4     2           0   \n",
       "\n",
       "    vettel  ...  raikkonen  russell  grosjean  kevin_magnussen  stroll  \\\n",
       "1        1  ...          0        0       0.0                0     0.0   \n",
       "2        0  ...          0        0       0.0                0     6.0   \n",
       "3        8  ...          0        0       0.0                1    12.0   \n",
       "4        1  ...          0        0       0.0                0     2.0   \n",
       "5        0  ...          0        0       0.0                0     8.0   \n",
       "6        6  ...          0        0       0.0                0    12.0   \n",
       "7        0  ...          0        0       0.0                0     2.0   \n",
       "8        0  ...          0        0       0.0                0    15.0   \n",
       "9        1  ...          2        0       0.0                0     0.0   \n",
       "10       0  ...          0        0       0.0                0     0.0   \n",
       "11       0  ...          0        0       2.0                0     NaN   \n",
       "12       1  ...          0        0       0.0                0     0.0   \n",
       "13       0  ...          2        0       0.0                0     0.0   \n",
       "14      15  ...          0        0       0.0                0     2.0   \n",
       "15       0  ...          0        0       0.0                0     0.0   \n",
       "16       0  ...          0        3       NaN                0    15.0   \n",
       "17       0  ...          0        0       NaN                0     1.0   \n",
       "\n",
       "    ricciardo  max_verstappen  hulkenberg  aitken  pietro_fittipaldi  \n",
       "1           0               0         NaN     NaN                NaN  \n",
       "2           4              15         NaN     NaN                NaN  \n",
       "3           4              18         NaN     NaN                NaN  \n",
       "4          12              19         0.0     NaN                NaN  \n",
       "5           0              25         6.0     NaN                NaN  \n",
       "6           0              18         NaN     NaN                NaN  \n",
       "7          13              15         NaN     NaN                NaN  \n",
       "8           8               0         NaN     NaN                NaN  \n",
       "9          12               0         NaN     NaN                NaN  \n",
       "10         10              18         NaN     NaN                NaN  \n",
       "11         15              19         4.0     NaN                NaN  \n",
       "12          2              15         NaN     NaN                NaN  \n",
       "13         15               0         NaN     NaN                NaN  \n",
       "14          1               8         NaN     NaN                NaN  \n",
       "15          6              19         NaN     NaN                NaN  \n",
       "16         10               0         NaN     0.0                0.0  \n",
       "17          7              25         NaN     NaN                0.0  \n",
       "\n",
       "[17 rows x 23 columns]"
      ],
      "text/html": "<div>\n<style scoped>\n    .dataframe tbody tr th:only-of-type {\n        vertical-align: middle;\n    }\n\n    .dataframe tbody tr th {\n        vertical-align: top;\n    }\n\n    .dataframe thead th {\n        text-align: right;\n    }\n</style>\n<table border=\"1\" class=\"dataframe\">\n  <thead>\n    <tr style=\"text-align: right;\">\n      <th></th>\n      <th>bottas</th>\n      <th>leclerc</th>\n      <th>norris</th>\n      <th>hamilton</th>\n      <th>sainz</th>\n      <th>perez</th>\n      <th>gasly</th>\n      <th>ocon</th>\n      <th>giovinazzi</th>\n      <th>vettel</th>\n      <th>...</th>\n      <th>raikkonen</th>\n      <th>russell</th>\n      <th>grosjean</th>\n      <th>kevin_magnussen</th>\n      <th>stroll</th>\n      <th>ricciardo</th>\n      <th>max_verstappen</th>\n      <th>hulkenberg</th>\n      <th>aitken</th>\n      <th>pietro_fittipaldi</th>\n    </tr>\n  </thead>\n  <tbody>\n    <tr>\n      <th>1</th>\n      <td>25</td>\n      <td>18</td>\n      <td>16</td>\n      <td>12.0</td>\n      <td>10</td>\n      <td>8.0</td>\n      <td>6</td>\n      <td>4</td>\n      <td>2</td>\n      <td>1</td>\n      <td>...</td>\n      <td>0</td>\n      <td>0</td>\n      <td>0.0</td>\n      <td>0</td>\n      <td>0.0</td>\n      <td>0</td>\n      <td>0</td>\n      <td>NaN</td>\n      <td>NaN</td>\n      <td>NaN</td>\n    </tr>\n    <tr>\n      <th>2</th>\n      <td>18</td>\n      <td>0</td>\n      <td>10</td>\n      <td>25.0</td>\n      <td>3</td>\n      <td>8.0</td>\n      <td>0</td>\n      <td>0</td>\n      <td>0</td>\n      <td>0</td>\n      <td>...</td>\n      <td>0</td>\n      <td>0</td>\n      <td>0.0</td>\n      <td>0</td>\n      <td>6.0</td>\n      <td>4</td>\n      <td>15</td>\n      <td>NaN</td>\n      <td>NaN</td>\n      <td>NaN</td>\n    </tr>\n    <tr>\n      <th>3</th>\n      <td>15</td>\n      <td>0</td>\n      <td>0</td>\n      <td>26.0</td>\n      <td>2</td>\n      <td>6.0</td>\n      <td>0</td>\n      <td>0</td>\n      <td>0</td>\n      <td>8</td>\n      <td>...</td>\n      <td>0</td>\n      <td>0</td>\n      <td>0.0</td>\n      <td>1</td>\n      <td>12.0</td>\n      <td>4</td>\n      <td>18</td>\n      <td>NaN</td>\n      <td>NaN</td>\n      <td>NaN</td>\n    </tr>\n    <tr>\n      <th>4</th>\n      <td>0</td>\n      <td>15</td>\n      <td>10</td>\n      <td>25.0</td>\n      <td>0</td>\n      <td>NaN</td>\n      <td>6</td>\n      <td>8</td>\n      <td>0</td>\n      <td>1</td>\n      <td>...</td>\n      <td>0</td>\n      <td>0</td>\n      <td>0.0</td>\n      <td>0</td>\n      <td>2.0</td>\n      <td>12</td>\n      <td>19</td>\n      <td>0.0</td>\n      <td>NaN</td>\n      <td>NaN</td>\n    </tr>\n    <tr>\n      <th>5</th>\n      <td>15</td>\n      <td>12</td>\n      <td>2</td>\n      <td>19.0</td>\n      <td>0</td>\n      <td>NaN</td>\n      <td>0</td>\n      <td>4</td>\n      <td>0</td>\n      <td>0</td>\n      <td>...</td>\n      <td>0</td>\n      <td>0</td>\n      <td>0.0</td>\n      <td>0</td>\n      <td>8.0</td>\n      <td>0</td>\n      <td>25</td>\n      <td>6.0</td>\n      <td>NaN</td>\n      <td>NaN</td>\n    </tr>\n    <tr>\n      <th>6</th>\n      <td>16</td>\n      <td>0</td>\n      <td>1</td>\n      <td>25.0</td>\n      <td>8</td>\n      <td>10.0</td>\n      <td>2</td>\n      <td>0</td>\n      <td>0</td>\n      <td>6</td>\n      <td>...</td>\n      <td>0</td>\n      <td>0</td>\n      <td>0.0</td>\n      <td>0</td>\n      <td>12.0</td>\n      <td>0</td>\n      <td>18</td>\n      <td>NaN</td>\n      <td>NaN</td>\n      <td>NaN</td>\n    </tr>\n    <tr>\n      <th>7</th>\n      <td>18</td>\n      <td>0</td>\n      <td>6</td>\n      <td>25.0</td>\n      <td>0</td>\n      <td>1.0</td>\n      <td>4</td>\n      <td>10</td>\n      <td>0</td>\n      <td>0</td>\n      <td>...</td>\n      <td>0</td>\n      <td>0</td>\n      <td>0.0</td>\n      <td>0</td>\n      <td>2.0</td>\n      <td>13</td>\n      <td>15</td>\n      <td>NaN</td>\n      <td>NaN</td>\n      <td>NaN</td>\n    </tr>\n    <tr>\n      <th>8</th>\n      <td>10</td>\n      <td>0</td>\n      <td>12</td>\n      <td>7.0</td>\n      <td>18</td>\n      <td>1.0</td>\n      <td>25</td>\n      <td>4</td>\n      <td>0</td>\n      <td>0</td>\n      <td>...</td>\n      <td>0</td>\n      <td>0</td>\n      <td>0.0</td>\n      <td>0</td>\n      <td>15.0</td>\n      <td>8</td>\n      <td>0</td>\n      <td>NaN</td>\n      <td>NaN</td>\n      <td>NaN</td>\n    </tr>\n    <tr>\n      <th>9</th>\n      <td>18</td>\n      <td>4</td>\n      <td>8</td>\n      <td>26.0</td>\n      <td>0</td>\n      <td>10.0</td>\n      <td>0</td>\n      <td>0</td>\n      <td>0</td>\n      <td>1</td>\n      <td>...</td>\n      <td>2</td>\n      <td>0</td>\n      <td>0.0</td>\n      <td>0</td>\n      <td>0.0</td>\n      <td>12</td>\n      <td>0</td>\n      <td>NaN</td>\n      <td>NaN</td>\n      <td>NaN</td>\n    </tr>\n    <tr>\n      <th>10</th>\n      <td>26</td>\n      <td>8</td>\n      <td>0</td>\n      <td>15.0</td>\n      <td>0</td>\n      <td>12.0</td>\n      <td>2</td>\n      <td>6</td>\n      <td>0</td>\n      <td>0</td>\n      <td>...</td>\n      <td>0</td>\n      <td>0</td>\n      <td>0.0</td>\n      <td>0</td>\n      <td>0.0</td>\n      <td>10</td>\n      <td>18</td>\n      <td>NaN</td>\n      <td>NaN</td>\n      <td>NaN</td>\n    </tr>\n    <tr>\n      <th>11</th>\n      <td>0</td>\n      <td>6</td>\n      <td>0</td>\n      <td>25.0</td>\n      <td>10</td>\n      <td>12.0</td>\n      <td>8</td>\n      <td>0</td>\n      <td>1</td>\n      <td>0</td>\n      <td>...</td>\n      <td>0</td>\n      <td>0</td>\n      <td>2.0</td>\n      <td>0</td>\n      <td>NaN</td>\n      <td>15</td>\n      <td>19</td>\n      <td>4.0</td>\n      <td>NaN</td>\n      <td>NaN</td>\n    </tr>\n    <tr>\n      <th>12</th>\n      <td>18</td>\n      <td>12</td>\n      <td>0</td>\n      <td>26.0</td>\n      <td>8</td>\n      <td>6.0</td>\n      <td>10</td>\n      <td>4</td>\n      <td>0</td>\n      <td>1</td>\n      <td>...</td>\n      <td>0</td>\n      <td>0</td>\n      <td>0.0</td>\n      <td>0</td>\n      <td>0.0</td>\n      <td>2</td>\n      <td>15</td>\n      <td>NaN</td>\n      <td>NaN</td>\n      <td>NaN</td>\n    </tr>\n    <tr>\n      <th>13</th>\n      <td>18</td>\n      <td>10</td>\n      <td>4</td>\n      <td>26.0</td>\n      <td>6</td>\n      <td>8.0</td>\n      <td>0</td>\n      <td>0</td>\n      <td>1</td>\n      <td>0</td>\n      <td>...</td>\n      <td>2</td>\n      <td>0</td>\n      <td>0.0</td>\n      <td>0</td>\n      <td>0.0</td>\n      <td>15</td>\n      <td>0</td>\n      <td>NaN</td>\n      <td>NaN</td>\n      <td>NaN</td>\n    </tr>\n    <tr>\n      <th>14</th>\n      <td>0</td>\n      <td>12</td>\n      <td>5</td>\n      <td>25.0</td>\n      <td>10</td>\n      <td>18.0</td>\n      <td>0</td>\n      <td>0</td>\n      <td>0</td>\n      <td>15</td>\n      <td>...</td>\n      <td>0</td>\n      <td>0</td>\n      <td>0.0</td>\n      <td>0</td>\n      <td>2.0</td>\n      <td>1</td>\n      <td>8</td>\n      <td>NaN</td>\n      <td>NaN</td>\n      <td>NaN</td>\n    </tr>\n    <tr>\n      <th>15</th>\n      <td>4</td>\n      <td>1</td>\n      <td>12</td>\n      <td>25.0</td>\n      <td>10</td>\n      <td>0.0</td>\n      <td>8</td>\n      <td>2</td>\n      <td>0</td>\n      <td>0</td>\n      <td>...</td>\n      <td>0</td>\n      <td>0</td>\n      <td>0.0</td>\n      <td>0</td>\n      <td>0.0</td>\n      <td>6</td>\n      <td>19</td>\n      <td>NaN</td>\n      <td>NaN</td>\n      <td>NaN</td>\n    </tr>\n    <tr>\n      <th>16</th>\n      <td>4</td>\n      <td>0</td>\n      <td>1</td>\n      <td>NaN</td>\n      <td>12</td>\n      <td>25.0</td>\n      <td>0</td>\n      <td>18</td>\n      <td>0</td>\n      <td>0</td>\n      <td>...</td>\n      <td>0</td>\n      <td>3</td>\n      <td>NaN</td>\n      <td>0</td>\n      <td>15.0</td>\n      <td>10</td>\n      <td>0</td>\n      <td>NaN</td>\n      <td>0.0</td>\n      <td>0.0</td>\n    </tr>\n    <tr>\n      <th>17</th>\n      <td>18</td>\n      <td>0</td>\n      <td>10</td>\n      <td>15.0</td>\n      <td>8</td>\n      <td>0.0</td>\n      <td>4</td>\n      <td>2</td>\n      <td>0</td>\n      <td>0</td>\n      <td>...</td>\n      <td>0</td>\n      <td>0</td>\n      <td>NaN</td>\n      <td>0</td>\n      <td>1.0</td>\n      <td>7</td>\n      <td>25</td>\n      <td>NaN</td>\n      <td>NaN</td>\n      <td>0.0</td>\n    </tr>\n  </tbody>\n</table>\n<p>17 rows × 23 columns</p>\n</div>"
     },
     "metadata": {},
     "execution_count": 20
    }
   ],
   "source": [
    "season.points"
   ]
  }
 ]
}